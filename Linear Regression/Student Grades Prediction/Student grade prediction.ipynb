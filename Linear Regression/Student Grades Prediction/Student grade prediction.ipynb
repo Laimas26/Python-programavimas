{
 "cells": [
  {
   "cell_type": "code",
   "execution_count": 124,
   "metadata": {},
   "outputs": [],
   "source": [
    "import pandas as pd\n",
    "import numpy as np\n",
    "from sklearn.linear_model import LinearRegression\n",
    "from sklearn.model_selection import train_test_split\n",
    "from sklearn.metrics import mean_absolute_error, mean_squared_error, r2_score\n",
    "from matplotlib import pyplot as plt\n",
    "import pickle\n",
    "from matplotlib import style"
   ]
  },
  {
   "cell_type": "markdown",
   "metadata": {},
   "source": [
    "1. Reading csv file (mathematics)"
   ]
  },
  {
   "cell_type": "code",
   "execution_count": 112,
   "metadata": {},
   "outputs": [
    {
     "name": "stdout",
     "output_type": "stream",
     "text": [
      "Number of students is: 395\n"
     ]
    }
   ],
   "source": [
    "data = pd.read_csv('student-mat.csv', sep=';')\n",
    "data['sex'] = data['sex'].map({'F': 0, 'M': 1})\n",
    "data = data[['age', 'sex', 'Fedu', 'Medu', 'failures', 'absences', 'G1', 'G2', 'G3']]\n",
    "# file2 = pd.read_csv('student-por.csv', sep=';')\n",
    "\n",
    "# Specify the columns for merging\n",
    "# merge_columns = [\"school\", \"sex\", \"age\", \"address\", \"famsize\", \"Pstatus\", \"Medu\", \"Fedu\", \"Mjob\", \"Fjob\", \"reason\", \"nursery\", \"internet\"]\n",
    "\n",
    "\n",
    "# data = pd.merge(file1, file2, on=merge_columns)\n",
    "print(f\"Number of students is: {len(data)}\")\n",
    "\n"
   ]
  },
  {
   "cell_type": "markdown",
   "metadata": {},
   "source": [
    "2. Get information about dataset"
   ]
  },
  {
   "cell_type": "code",
   "execution_count": 113,
   "metadata": {},
   "outputs": [
    {
     "name": "stdout",
     "output_type": "stream",
     "text": [
      "   age  sex  Fedu  Medu  failures  absences  G1  G2  G3\n",
      "0   18    0     4     4         0         6   5   6   6\n",
      "1   17    0     1     1         0         4   5   5   6\n",
      "2   15    0     1     1         3        10   7   8  10\n",
      "3   15    0     2     4         0         2  15  14  15\n",
      "4   16    0     3     3         0         4   6  10  10\n"
     ]
    }
   ],
   "source": [
    "# Explore the dataset\n",
    "print(data.head())  # Display the first few rows of data\n",
    "# print(data.info())  # Get information about the dataset, including data types\n",
    "# print(data.describe())  # Get summary statistics of numeric columns"
   ]
  },
  {
   "cell_type": "code",
   "execution_count": 114,
   "metadata": {},
   "outputs": [
    {
     "name": "stdout",
     "output_type": "stream",
     "text": [
      "     age  sex  Fedu  Medu  failures  absences  G1  G2\n",
      "0     18    0     4     4         0         6   5   6\n",
      "1     17    0     1     1         0         4   5   5\n",
      "2     15    0     1     1         3        10   7   8\n",
      "3     15    0     2     4         0         2  15  14\n",
      "4     16    0     3     3         0         4   6  10\n",
      "..   ...  ...   ...   ...       ...       ...  ..  ..\n",
      "390   20    1     2     2         2        11   9   9\n",
      "391   17    1     1     3         0         3  14  16\n",
      "392   21    1     1     1         3         3  10   8\n",
      "393   18    1     2     3         0         0  11  12\n",
      "394   19    1     1     1         0         5   8   9\n",
      "\n",
      "[395 rows x 8 columns]\n"
     ]
    }
   ],
   "source": [
    "# pd.set_option('display.max_columns', None)  # Display all columns\n",
    "# print(data.head())\n",
    "\n",
    "\n",
    "X = data[['age', 'sex', 'Fedu', 'Medu', 'failures', 'absences', 'G1', 'G2']]\n",
    "Y = data['G3']\n",
    "\n",
    "print(X)"
   ]
  },
  {
   "cell_type": "code",
   "execution_count": 115,
   "metadata": {},
   "outputs": [],
   "source": [
    "X_train, X_test, y_train, y_test = train_test_split(X, Y, test_size=0.1)\n"
   ]
  },
  {
   "cell_type": "markdown",
   "metadata": {},
   "source": [
    "3. Define and train Linear Regression model"
   ]
  },
  {
   "cell_type": "code",
   "execution_count": 116,
   "metadata": {},
   "outputs": [
    {
     "data": {
      "text/html": [
       "<style>#sk-container-id-5 {color: black;}#sk-container-id-5 pre{padding: 0;}#sk-container-id-5 div.sk-toggleable {background-color: white;}#sk-container-id-5 label.sk-toggleable__label {cursor: pointer;display: block;width: 100%;margin-bottom: 0;padding: 0.3em;box-sizing: border-box;text-align: center;}#sk-container-id-5 label.sk-toggleable__label-arrow:before {content: \"▸\";float: left;margin-right: 0.25em;color: #696969;}#sk-container-id-5 label.sk-toggleable__label-arrow:hover:before {color: black;}#sk-container-id-5 div.sk-estimator:hover label.sk-toggleable__label-arrow:before {color: black;}#sk-container-id-5 div.sk-toggleable__content {max-height: 0;max-width: 0;overflow: hidden;text-align: left;background-color: #f0f8ff;}#sk-container-id-5 div.sk-toggleable__content pre {margin: 0.2em;color: black;border-radius: 0.25em;background-color: #f0f8ff;}#sk-container-id-5 input.sk-toggleable__control:checked~div.sk-toggleable__content {max-height: 200px;max-width: 100%;overflow: auto;}#sk-container-id-5 input.sk-toggleable__control:checked~label.sk-toggleable__label-arrow:before {content: \"▾\";}#sk-container-id-5 div.sk-estimator input.sk-toggleable__control:checked~label.sk-toggleable__label {background-color: #d4ebff;}#sk-container-id-5 div.sk-label input.sk-toggleable__control:checked~label.sk-toggleable__label {background-color: #d4ebff;}#sk-container-id-5 input.sk-hidden--visually {border: 0;clip: rect(1px 1px 1px 1px);clip: rect(1px, 1px, 1px, 1px);height: 1px;margin: -1px;overflow: hidden;padding: 0;position: absolute;width: 1px;}#sk-container-id-5 div.sk-estimator {font-family: monospace;background-color: #f0f8ff;border: 1px dotted black;border-radius: 0.25em;box-sizing: border-box;margin-bottom: 0.5em;}#sk-container-id-5 div.sk-estimator:hover {background-color: #d4ebff;}#sk-container-id-5 div.sk-parallel-item::after {content: \"\";width: 100%;border-bottom: 1px solid gray;flex-grow: 1;}#sk-container-id-5 div.sk-label:hover label.sk-toggleable__label {background-color: #d4ebff;}#sk-container-id-5 div.sk-serial::before {content: \"\";position: absolute;border-left: 1px solid gray;box-sizing: border-box;top: 0;bottom: 0;left: 50%;z-index: 0;}#sk-container-id-5 div.sk-serial {display: flex;flex-direction: column;align-items: center;background-color: white;padding-right: 0.2em;padding-left: 0.2em;position: relative;}#sk-container-id-5 div.sk-item {position: relative;z-index: 1;}#sk-container-id-5 div.sk-parallel {display: flex;align-items: stretch;justify-content: center;background-color: white;position: relative;}#sk-container-id-5 div.sk-item::before, #sk-container-id-5 div.sk-parallel-item::before {content: \"\";position: absolute;border-left: 1px solid gray;box-sizing: border-box;top: 0;bottom: 0;left: 50%;z-index: -1;}#sk-container-id-5 div.sk-parallel-item {display: flex;flex-direction: column;z-index: 1;position: relative;background-color: white;}#sk-container-id-5 div.sk-parallel-item:first-child::after {align-self: flex-end;width: 50%;}#sk-container-id-5 div.sk-parallel-item:last-child::after {align-self: flex-start;width: 50%;}#sk-container-id-5 div.sk-parallel-item:only-child::after {width: 0;}#sk-container-id-5 div.sk-dashed-wrapped {border: 1px dashed gray;margin: 0 0.4em 0.5em 0.4em;box-sizing: border-box;padding-bottom: 0.4em;background-color: white;}#sk-container-id-5 div.sk-label label {font-family: monospace;font-weight: bold;display: inline-block;line-height: 1.2em;}#sk-container-id-5 div.sk-label-container {text-align: center;}#sk-container-id-5 div.sk-container {/* jupyter's `normalize.less` sets `[hidden] { display: none; }` but bootstrap.min.css set `[hidden] { display: none !important; }` so we also need the `!important` here to be able to override the default hidden behavior on the sphinx rendered scikit-learn.org. See: https://github.com/scikit-learn/scikit-learn/issues/21755 */display: inline-block !important;position: relative;}#sk-container-id-5 div.sk-text-repr-fallback {display: none;}</style><div id=\"sk-container-id-5\" class=\"sk-top-container\"><div class=\"sk-text-repr-fallback\"><pre>LinearRegression()</pre><b>In a Jupyter environment, please rerun this cell to show the HTML representation or trust the notebook. <br />On GitHub, the HTML representation is unable to render, please try loading this page with nbviewer.org.</b></div><div class=\"sk-container\" hidden><div class=\"sk-item\"><div class=\"sk-estimator sk-toggleable\"><input class=\"sk-toggleable__control sk-hidden--visually\" id=\"sk-estimator-id-5\" type=\"checkbox\" checked><label for=\"sk-estimator-id-5\" class=\"sk-toggleable__label sk-toggleable__label-arrow\">LinearRegression</label><div class=\"sk-toggleable__content\"><pre>LinearRegression()</pre></div></div></div></div></div>"
      ],
      "text/plain": [
       "LinearRegression()"
      ]
     },
     "execution_count": 116,
     "metadata": {},
     "output_type": "execute_result"
    }
   ],
   "source": [
    "model = LinearRegression()\n",
    "\n",
    "model.fit(X_train, y_train)"
   ]
  },
  {
   "cell_type": "markdown",
   "metadata": {},
   "source": [
    "4. Evaluate the model"
   ]
  },
  {
   "cell_type": "code",
   "execution_count": 117,
   "metadata": {},
   "outputs": [
    {
     "name": "stdout",
     "output_type": "stream",
     "text": [
      "Model score: 0.8758927404215632\n",
      "Co: \n",
      " [-0.11989123  0.20823939 -0.10607091  0.03503747 -0.22004461  0.04672935\n",
      "  0.16266635  0.95975717]\n",
      "Intercept: \n",
      " 0.25113560046112227\n"
     ]
    }
   ],
   "source": [
    "prediction = model.predict(X_test)\n",
    "\n",
    "score = model.score(X_test, y_test)\n",
    "\n",
    "print(\"Model score:\", score)\n",
    "\n",
    "print(\"Co: \\n\", model.coef_)\n",
    "print(\"Intercept: \\n\", model.intercept_)\n",
    "\n",
    "# mae = mean_absolute_error(y_test, prediction)\n",
    "# mse = mean_squared_error(y_test, prediction)\n",
    "# r2 = r2_score(y_test, prediction)\n",
    "\n",
    "# print(\"Mean Absolute Error:\", mae)\n",
    "# print(\"Mean Squared Error:\", mse)\n",
    "# print(\"R-squared:\", r2)\n"
   ]
  },
  {
   "cell_type": "markdown",
   "metadata": {},
   "source": [
    "5. Test with new data"
   ]
  },
  {
   "cell_type": "code",
   "execution_count": null,
   "metadata": {},
   "outputs": [],
   "source": [
    "# Example new data for prediction (replace with your actual data)\n",
    "# new_data = pd.DataFrame({'age': [16, 17, 18], 'sex': [0, 1, 0], 'Fedu': [4, 2, 3], 'Medu': [3, 4, 2], 'failures': [0, 1, 2], 'absences': [5, 8, 3]})\n",
    "\n",
    "# Make predictions on the new data\n",
    "predictions = model.predict(X_test)\n",
    "\n",
    "# print(X_test[1])\n",
    "\n",
    "for x in range(len(predictions)):\n",
    "    print(predictions[x], X_test.iloc[x], y_test.iloc[x])\n",
    "\n",
    "# Print the predictions\n",
    "# print(\"Predicted Grades:\", predictions)"
   ]
  },
  {
   "cell_type": "markdown",
   "metadata": {},
   "source": [
    "6. Save the model"
   ]
  },
  {
   "cell_type": "code",
   "execution_count": 126,
   "metadata": {},
   "outputs": [],
   "source": [
    "with open(\"studentmodel.pickle\", \"wb\") as f:\n",
    "    pickle.dump(model, f)\n"
   ]
  },
  {
   "cell_type": "markdown",
   "metadata": {},
   "source": [
    "7. Load the model"
   ]
  },
  {
   "cell_type": "code",
   "execution_count": 127,
   "metadata": {},
   "outputs": [],
   "source": [
    "pickle_in = open(\"studentmodel.pickle\", \"rb\")\n",
    "model = pickle.load(pickle_in)"
   ]
  },
  {
   "cell_type": "markdown",
   "metadata": {},
   "source": [
    "8. Visualize the prediction"
   ]
  },
  {
   "cell_type": "markdown",
   "metadata": {},
   "source": []
  }
 ],
 "metadata": {
  "kernelspec": {
   "display_name": "Python 3",
   "language": "python",
   "name": "python3"
  },
  "language_info": {
   "codemirror_mode": {
    "name": "ipython",
    "version": 3
   },
   "file_extension": ".py",
   "mimetype": "text/x-python",
   "name": "python",
   "nbconvert_exporter": "python",
   "pygments_lexer": "ipython3",
   "version": "3.11.0"
  }
 },
 "nbformat": 4,
 "nbformat_minor": 2
}
